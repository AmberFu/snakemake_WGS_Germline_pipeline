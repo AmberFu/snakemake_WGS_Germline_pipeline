{
 "cells": [
  {
   "cell_type": "code",
   "execution_count": 7,
   "id": "a39c28ad-6dba-42fc-9031-d92093ddee9a",
   "metadata": {
    "tags": []
   },
   "outputs": [
    {
     "data": {
      "text/plain": [
       "{'HG002_NA24385_son': {'R1': '/storage1/fs1/jin810/Active/datasets/NIST_AshkenazimTrio_Illumina_2_250bps/snakemake_sort_and_concate_FQs/results/rawFQs_to_sampleFQ/HG002_NA24385_son_R1.fastq.gz',\n",
       "  'R2': '/storage1/fs1/jin810/Active/datasets/NIST_AshkenazimTrio_Illumina_2_250bps/snakemake_sort_and_concate_FQs/results/rawFQs_to_sampleFQ/HG002_NA24385_son_R2.fastq.gz'},\n",
       " 'HG003_NA24149_father': {'R1': '/storage1/fs1/jin810/Active/datasets/NIST_AshkenazimTrio_Illumina_2_250bps/snakemake_sort_and_concate_FQs/results/rawFQs_to_sampleFQ/HG003_NA24149_father_R1.fastq.gz',\n",
       "  'R2': '/storage1/fs1/jin810/Active/datasets/NIST_AshkenazimTrio_Illumina_2_250bps/snakemake_sort_and_concate_FQs/results/rawFQs_to_sampleFQ/HG003_NA24149_father_R2.fastq.gz'},\n",
       " 'HG004_NA24143_mother': {'R1': '/storage1/fs1/jin810/Active/datasets/NIST_AshkenazimTrio_Illumina_2_250bps/snakemake_sort_and_concate_FQs/results/rawFQs_to_sampleFQ/HG004_NA24143_mother_R1.fastq.gz',\n",
       "  'R2': '/storage1/fs1/jin810/Active/datasets/NIST_AshkenazimTrio_Illumina_2_250bps/snakemake_sort_and_concate_FQs/results/rawFQs_to_sampleFQ/HG004_NA24143_mother_R2.fastq.gz'}}"
      ]
     },
     "execution_count": 7,
     "metadata": {},
     "output_type": "execute_result"
    }
   ],
   "source": [
    "import pandas as pd\n",
    "\n",
    "tsv = '/storage1/fs1/jin810/Active/programs/snakemake_germline_QC_Jointcall_VQSR_FQ2VCF_TEST01/config/input_sample.tsv'\n",
    "#tsv = config['tsv']\n",
    "\n",
    "SAMPLE_DICT = {}\n",
    "df = pd.read_csv(tsv, sep='\\t', header=None, names=['ID','R1','R2'])\n",
    "for index, row in df.iterrows():\n",
    "    ID = str(row['ID'])\n",
    "    R1 = str(row['R1'])\n",
    "    R2 = str(row['R2'])\n",
    "    SAMPLE_DICT[ID] = {'R1': R1, 'R2': R2}\n",
    "\n",
    "SAMPLE_DICT"
   ]
  },
  {
   "cell_type": "code",
   "execution_count": null,
   "id": "5eccff22-dfea-4314-9591-dd68b170e243",
   "metadata": {},
   "outputs": [],
   "source": []
  }
 ],
 "metadata": {
  "kernelspec": {
   "display_name": "Python 3 (ipykernel)",
   "language": "python",
   "name": "python3"
  },
  "language_info": {
   "codemirror_mode": {
    "name": "ipython",
    "version": 3
   },
   "file_extension": ".py",
   "mimetype": "text/x-python",
   "name": "python",
   "nbconvert_exporter": "python",
   "pygments_lexer": "ipython3",
   "version": "3.8.10"
  }
 },
 "nbformat": 4,
 "nbformat_minor": 5
}
